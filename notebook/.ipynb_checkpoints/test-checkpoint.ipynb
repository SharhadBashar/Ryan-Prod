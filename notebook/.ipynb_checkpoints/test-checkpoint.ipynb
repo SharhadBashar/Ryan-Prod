{
 "cells": [
  {
   "cell_type": "code",
   "execution_count": 2,
   "id": "901a12e2",
   "metadata": {},
   "outputs": [],
   "source": [
    "import json\n",
    "import pickle\n",
    "import pyodbc\n",
    "import pandas as pd\n",
    "from tqdm import tqdm"
   ]
  },
  {
   "cell_type": "code",
   "execution_count": 3,
   "id": "59fd0748",
   "metadata": {},
   "outputs": [],
   "source": [
    "database_info = "
   ]
  },
  {
   "cell_type": "code",
   "execution_count": 4,
   "id": "cb4c0703",
   "metadata": {},
   "outputs": [],
   "source": [
    "class Database:\n",
    "    def __init__(self, env = 'staging'):\n",
    "        with open('../config/database.json') as file:\n",
    "            database_info = json.load(file)\n",
    "        self.conn_common = self._database_conn(database_info[env], 'common')\n",
    "        self.conn_dmp = self._database_conn(database_info[env], 'dmp')\n",
    "        \n",
    "    def _database_conn(self, database_info, database):\n",
    "        return 'DRIVER={};\\\n",
    "                    SERVER={};\\\n",
    "                    DATABASE={};\\\n",
    "                    UID={};\\\n",
    "                    PWD={};\\\n",
    "                    TrustServerCertificate=yes'.format(\n",
    "            database_info['driver'], database_info['server'], \n",
    "            database_info['database'][database],\n",
    "            database_info['username'], database_info['password']\n",
    "        )\n",
    "    def read_dmp(self):\n",
    "        conn = self.conn_dmp\n",
    "        query = \"\"\"SELECT\n",
    "                        TOP (100) *\n",
    "                   FROM\n",
    "                        dbo.AgeRangeByContentFormatId  \n",
    "                \"\"\"\n",
    "        cursor = pyodbc.connect(conn).cursor()\n",
    "        cursor.execute(query)\n",
    "        print(cursor)\n",
    "        cursor.close()"
   ]
  },
  {
   "cell_type": "code",
   "execution_count": null,
   "id": "64d0f417",
   "metadata": {},
   "outputs": [],
   "source": []
  }
 ],
 "metadata": {
  "kernelspec": {
   "display_name": "Python 3 (ipykernel)",
   "language": "python",
   "name": "python3"
  },
  "language_info": {
   "codemirror_mode": {
    "name": "ipython",
    "version": 3
   },
   "file_extension": ".py",
   "mimetype": "text/x-python",
   "name": "python",
   "nbconvert_exporter": "python",
   "pygments_lexer": "ipython3",
   "version": "3.9.13"
  }
 },
 "nbformat": 4,
 "nbformat_minor": 5
}
